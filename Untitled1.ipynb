{
 "cells": [
  {
   "cell_type": "code",
   "execution_count": 1,
   "metadata": {},
   "outputs": [],
   "source": [
    "import time\n",
    "import urllib.parse\n",
    "from typing import Optional, Dict, Any, List\n",
    "import requests\n",
    "from requests import Request, Session, Response\n",
    "import hmac\n",
    "from flask import Flask\n",
    "\n",
    "\n",
    "class FtxClient:\n",
    "    _ENDPOINT = 'https://ftx.com/api/'\n",
    "\n",
    "    def __init__(self, api_key=None, api_secret=None, subaccount_name='HD_Research') -> None:\n",
    "        self._session = Session()\n",
    "        self._api_key = api_key\n",
    "        self._api_secret = api_secret\n",
    "        self._subaccount_name = subaccount_name\n",
    "\n",
    "    def _get(self, path: str, params: Optional[Dict[str, Any]] = None) -> Any:\n",
    "        return self._request('GET', path, params=params)\n",
    "\n",
    "    def _post(self, path: str, params: Optional[Dict[str, Any]] = None) -> Any:\n",
    "        return self._request('POST', path, json=params)\n",
    "\n",
    "    def _delete(self, path: str, params: Optional[Dict[str, Any]] = None) -> Any:\n",
    "        return self._request('DELETE', path, json=params)\n",
    "\n",
    "    def _request(self, method: str, path: str, **kwargs) -> Any:\n",
    "        request = Request(method, self._ENDPOINT + path, **kwargs)\n",
    "        self._sign_request(request)\n",
    "        response = self._session.send(request.prepare())\n",
    "        return self._process_response(response)\n",
    "\n",
    "    def _sign_request(self, request: Request) -> None:\n",
    "        ts = int(time.time() * 1000)\n",
    "        prepared = request.prepare()\n",
    "        signature_payload = f'{ts}{prepared.method}{prepared.path_url}'.encode()\n",
    "        if prepared.body:\n",
    "            signature_payload += prepared.body\n",
    "        signature = hmac.new(self._api_secret.encode(), signature_payload, 'sha256').hexdigest()\n",
    "        request.headers['FTX-KEY'] = self._api_key\n",
    "        request.headers['FTX-SIGN'] = signature\n",
    "        request.headers['FTX-TS'] = str(ts)\n",
    "        if self._subaccount_name:\n",
    "            request.headers['FTX-SUBACCOUNT'] = urllib.parse.quote(self._subaccount_name)\n",
    "\n",
    "    def _process_response(self, response: Response) -> Any:\n",
    "        try:\n",
    "            data = response.json()\n",
    "        except ValueError:\n",
    "            response.raise_for_status()\n",
    "            raise\n",
    "        else:\n",
    "            if not data['success']:\n",
    "                raise Exception(data['error'])\n",
    "            return data['result']\n",
    "\n",
    "    def list_futures(self) -> List[dict]:\n",
    "        return self._get('futures')\n",
    "\n",
    "    def list_markets(self) -> List[dict]:\n",
    "        return self._get('markets')\n",
    "    \n",
    "    def get_klines(self, market_name: str, resolution: int = 3600, limit: int = 5, \n",
    "                    start_time: int = None, end_time: int = None):\n",
    "        # resolution: window length in seconds: 15, 60, 300, 900, 3600, 14400, 86400\n",
    "        # limit: max number to fetch, optional, max 5000\n",
    "        return self._get(f'markets/{market_name}/candles', {'resolution': resolution, \n",
    "                                                            'limit': limit,\n",
    "                                                            'start_time': start_time,\n",
    "                                                            'end_time': end_time})\n",
    "    \n",
    "    def get_orderbook(self, market: str, depth: int = None) -> dict:\n",
    "        return self._get(f'markets/{market}/orderbook', {'depth': depth})\n",
    "\n",
    "    def get_trades(self, market: str) -> dict:\n",
    "        return self._get(f'markets/{market}/trades')\n",
    "\n",
    "    def get_account_info(self) -> dict:\n",
    "        return self._get(f'account')\n",
    "\n",
    "    def get_open_orders(self, market: str = None) -> List[dict]:\n",
    "        return self._get(f'orders', {'market': market})\n",
    "    \n",
    "    def get_order_history(self, market: str = None, side: str = None, order_type: str = None, start_time: float = None, end_time: float = None) -> List[dict]:\n",
    "        return self._get(f'orders/history', {'market': market, 'side': side, 'orderType': order_type, 'start_time': start_time, 'end_time': end_time})\n",
    "        \n",
    "    def get_conditional_order_history(self, market: str = None, side: str = None, type: str = None, order_type: str = None, start_time: float = None, end_time: float = None) -> List[dict]:\n",
    "        return self._get(f'conditional_orders/history', {'market': market, 'side': side, 'type': type, 'orderType': order_type, 'start_time': start_time, 'end_time': end_time})\n",
    "\n",
    "    def modify_order(\n",
    "        self, existing_order_id: Optional[str] = None,\n",
    "        existing_client_order_id: Optional[str] = None, price: Optional[float] = None,\n",
    "        size: Optional[float] = None, client_order_id: Optional[str] = None,\n",
    "    ) -> dict:\n",
    "        assert (existing_order_id is None) ^ (existing_client_order_id is None), \\\n",
    "            'Must supply exactly one ID for the order to modify'\n",
    "        assert (price is None) or (size is None), 'Must modify price or size of order'\n",
    "        path = f'orders/{existing_order_id}/modify' if existing_order_id is not None else \\\n",
    "            f'orders/by_client_id/{existing_client_order_id}/modify'\n",
    "        return self._post(path, {\n",
    "            **({'size': size} if size is not None else {}),\n",
    "            **({'price': price} if price is not None else {}),\n",
    "            ** ({'clientId': client_order_id} if client_order_id is not None else {}),\n",
    "        })\n",
    "\n",
    "    def get_conditional_orders(self, market: str = None) -> List[dict]:\n",
    "        return self._get(f'conditional_orders', {'market': market})\n",
    "\n",
    "    def place_order(self, market: str, side: str, price: float, size: float, reduce_only: bool, type: str = 'limit',\n",
    "                      ioc: bool = False, post_only: bool = False,\n",
    "                    client_id: str = None) -> dict:\n",
    "        return self._post('orders', {'market': market,\n",
    "                                    'side': side,\n",
    "                                    'price': price,\n",
    "                                    'size': size,\n",
    "                                    'type': type,\n",
    "                                    'reduceOnly': reduce_only,\n",
    "                                    'ioc': ioc,\n",
    "                                    'postOnly': post_only,\n",
    "                                    'clientId': client_id,\n",
    "                                    })\n",
    "\n",
    "    def place_conditional_order(\n",
    "        self, market: str, side: str, size: float, type: str = 'stop',\n",
    "        limit_price: float = None, reduce_only: bool = False, cancel: bool = True,\n",
    "        trigger_price: float = None, trail_value: float = None\n",
    "    ) -> dict:\n",
    "        \"\"\"\n",
    "        To send a Stop Market order, set type='stop' and supply a trigger_price\n",
    "        To send a Stop Limit order, also supply a limit_price\n",
    "        To send a Take Profit Market order, set type='trailing_stop' and supply a trigger_price\n",
    "        To send a Trailing Stop order, set type='trailing_stop' and supply a trail_value\n",
    "        \"\"\"\n",
    "        assert type in ('stop', 'take_profit', 'trailing_stop')\n",
    "        assert type not in ('stop', 'take_profit') or trigger_price is not None, \\\n",
    "            'Need trigger prices for stop losses and take profits'\n",
    "        assert type not in ('trailing_stop',) or (trigger_price is None and trail_value is not None), \\\n",
    "            'Trailing stops need a trail value and cannot take a trigger price'\n",
    "\n",
    "        return self._post('conditional_orders',\n",
    "                          {'market': market, 'side': side, 'triggerPrice': trigger_price,\n",
    "                          'size': size, 'reduceOnly': reduce_only, 'type': 'stop',\n",
    "                          'cancelLimitOnTrigger': cancel, 'orderPrice': limit_price})\n",
    "\n",
    "    def cancel_order(self, order_id: str) -> dict:\n",
    "        return self._delete(f'orders/{order_id}')\n",
    "\n",
    "    def cancel_orders(self, market_name: str = None, conditional_orders: bool = False,\n",
    "                      limit_orders: bool = False) -> dict:\n",
    "        return self._delete(f'orders', {'market': market_name,\n",
    "                                        'conditionalOrdersOnly': conditional_orders,\n",
    "                                        'limitOrdersOnly': limit_orders,\n",
    "                                        })\n",
    "\n",
    "    def get_fills(self) -> List[dict]:\n",
    "        return self._get(f'fills')\n",
    "\n",
    "    def get_balances(self) -> List[dict]:\n",
    "        return self._get('wallet/balances')\n",
    "   \n",
    "    def get_deposit_address(self, ticker: str) -> dict:\n",
    "        return self._get(f'wallet/deposit_address/{ticker}')\n",
    "\n",
    "    def get_positions(self, show_avg_price: bool = False) -> List[dict]:\n",
    "        return self._get('positions', {'showAvgPrice': show_avg_price})\n",
    "\n",
    "    def get_position(self, name: str, show_avg_price: bool = False) -> dict:\n",
    "        return next(filter(lambda x: x['future'] == name, self.get_positions(show_avg_price)), None)\n",
    "\n"
   ]
  },
  {
   "cell_type": "code",
   "execution_count": 2,
   "metadata": {},
   "outputs": [],
   "source": [
    "def get_historical_klines(market, interval, limit=2880, start_time=None, end_time=None):\n",
    "\n",
    "    # make sure limtit is below 5000 \n",
    "    if limit > 5000:\n",
    "        smart_message(f'Max klines is 5000 per request. Getting 5000 klines instead of {limit}.')\n",
    "        limit = 5000 \n",
    "\n",
    "    for _ in range(10): \n",
    "        try:\n",
    "            temp_dict = client.get_klines(market_name=market, resolution=int(interval*60), \n",
    "                                            limit=limit, start_time=start_time, end_time=end_time)\n",
    "        except Exception as e: \n",
    "            print(e)\n",
    "            print(\"Failed to get historical kline. Retrying....\")\n",
    "            time.sleep(2)\n",
    "        else:\n",
    "            if len(temp_dict) > 0:  \n",
    "                break  \n",
    "            else: \n",
    "                time.sleep(1)\n",
    "    else: # when all the retries failed\n",
    "        print(\"(get_historical_klines_simple) Failed 10 times to get historical kline data.\")\n",
    "        # If you like, terminate the program (or report this to Discord/LINE/whatever)\n",
    "        #sys.exit(0)\n",
    "\n",
    "    # convert to data frame \n",
    "    df = pd.DataFrame.from_dict(temp_dict)\n",
    "    df.columns = ['Close', 'High', 'Low', 'Open', 'Date UTC', 'TimeStamp', 'Volume']\n",
    "    # change OHLCV data types from 'object' to 'float'\n",
    "    df[['Open', 'High', 'Low', 'Close', 'Volume']] = df[['Open', 'High', 'Low', 'Close', 'Volume']].astype('float64')\n",
    "    df['Date JST'] = [datetime.fromtimestamp(i/1000, jst).strftime('%Y-%m-%d %H:%M:%S.%d')[:-3] for i in df['TimeStamp']] # use JST to convert time\n",
    "    # change df column order to OHLCV\n",
    "    df = df[['Open', 'High', 'Low', 'Close', 'Volume', 'TimeStamp', 'Date UTC', 'Date JST']]\n",
    "\n",
    "    return df"
   ]
  },
  {
   "cell_type": "code",
   "execution_count": 4,
   "metadata": {},
   "outputs": [
    {
     "data": {
      "text/plain": [
       "[{'future': 'BTC-PERP',\n",
       "  'size': 0.0,\n",
       "  'side': 'buy',\n",
       "  'netSize': 0.0,\n",
       "  'longOrderSize': 0.0,\n",
       "  'shortOrderSize': 0.0,\n",
       "  'cost': 0.0,\n",
       "  'entryPrice': None,\n",
       "  'unrealizedPnl': 0.0,\n",
       "  'realizedPnl': -2670.39527401,\n",
       "  'initialMarginRequirement': 0.1,\n",
       "  'maintenanceMarginRequirement': 0.03,\n",
       "  'openSize': 0.0,\n",
       "  'collateralUsed': 0.0,\n",
       "  'estimatedLiquidationPrice': None,\n",
       "  'recentAverageOpenPrice': None,\n",
       "  'recentPnl': None,\n",
       "  'recentBreakEvenPrice': None,\n",
       "  'cumulativeBuySize': None,\n",
       "  'cumulativeSellSize': None}]"
      ]
     },
     "execution_count": 4,
     "metadata": {},
     "output_type": "execute_result"
    }
   ],
   "source": [
    "jason=FtxClient('Nyjl6vk1E17Csf7WJh7mNpMhKSVMCoCWAg5e9b1o','O3VgRQNBaQwXGxbKej42BDVPZ13rk_SGU_PIAkPu')\n",
    "pos = jason.get_positions()\n",
    "pos"
   ]
  },
  {
   "cell_type": "code",
   "execution_count": 5,
   "metadata": {},
   "outputs": [
    {
     "name": "stderr",
     "output_type": "stream",
     "text": [
      "C:\\ProgramData\\Anaconda3\\lib\\site-packages\\sklearn\\externals\\joblib\\__init__.py:15: DeprecationWarning: sklearn.externals.joblib is deprecated in 0.21 and will be removed in 0.23. Please import this functionality directly from joblib, which can be installed with: pip install joblib. If this warning is raised when loading pickled models, you may need to re-serialize those models with scikit-learn 0.21+.\n",
      "  warnings.warn(msg, category=DeprecationWarning)\n"
     ]
    }
   ],
   "source": [
    "import time\n",
    "import pandas as pd\n",
    "import numpy as np\n",
    "from sklearn import model_selection\n",
    "from sklearn.ensemble import RandomForestClassifier\n",
    "from sklearn.externals import joblib\n",
    "def trend():\n",
    "    stop_time = int(time.time())\n",
    "    jason=FtxClient('Nyjl6vk1E17Csf7WJh7mNpMhKSVMCoCWAg5e9b1o','O3VgRQNBaQwXGxbKej42BDVPZ13rk_SGU_PIAkPu')\n",
    "    kline = pd.DataFrame(jason.get_klines(market_name='BTC/USDT', resolution=3600, \n",
    "                                            limit=10,end_time=stop_time)).drop(['startTime'], axis=1).drop(['time'], axis=1)\n",
    "    loaded_model = joblib.load('k130_predict.m')\n",
    "    Result = loaded_model.predict(kline)\n",
    "    print(Result)\n",
    "    predict = np.mean(Result[-6:])\n",
    "    content = \"[HD Invest]漢典交易機器人實驗計畫 \\n 預測3日內漲幅: \"\n",
    "    content += '{}% \\n 本功能尚在優化中 僅供參考 不建議作為交易依據'.format(predict)\n",
    "\n",
    "    return content\n",
    "    \n",
    "    "
   ]
  },
  {
   "cell_type": "code",
   "execution_count": 6,
   "metadata": {},
   "outputs": [
    {
     "ename": "ModuleNotFoundError",
     "evalue": "No module named 'sklearn.ensemble._forest'",
     "output_type": "error",
     "traceback": [
      "\u001b[1;31m---------------------------------------------------------------------------\u001b[0m",
      "\u001b[1;31mModuleNotFoundError\u001b[0m                       Traceback (most recent call last)",
      "\u001b[1;32m<ipython-input-6-ef1f08b4cfda>\u001b[0m in \u001b[0;36m<module>\u001b[1;34m\u001b[0m\n\u001b[1;32m----> 1\u001b[1;33m \u001b[0mc\u001b[0m \u001b[1;33m=\u001b[0m \u001b[0mtrend\u001b[0m\u001b[1;33m(\u001b[0m\u001b[1;33m)\u001b[0m\u001b[1;33m\u001b[0m\u001b[1;33m\u001b[0m\u001b[0m\n\u001b[0m\u001b[0;32m      2\u001b[0m \u001b[0mc\u001b[0m\u001b[1;33m\u001b[0m\u001b[1;33m\u001b[0m\u001b[0m\n",
      "\u001b[1;32m<ipython-input-5-51da8b6fdbec>\u001b[0m in \u001b[0;36mtrend\u001b[1;34m()\u001b[0m\n\u001b[0;32m     10\u001b[0m     kline = pd.DataFrame(jason.get_klines(market_name='BTC/USDT', resolution=3600, \n\u001b[0;32m     11\u001b[0m                                             limit=10,end_time=stop_time)).drop(['startTime'], axis=1).drop(['time'], axis=1)\n\u001b[1;32m---> 12\u001b[1;33m     \u001b[0mloaded_model\u001b[0m \u001b[1;33m=\u001b[0m \u001b[0mjoblib\u001b[0m\u001b[1;33m.\u001b[0m\u001b[0mload\u001b[0m\u001b[1;33m(\u001b[0m\u001b[1;34m'k130_predict.m'\u001b[0m\u001b[1;33m)\u001b[0m\u001b[1;33m\u001b[0m\u001b[1;33m\u001b[0m\u001b[0m\n\u001b[0m\u001b[0;32m     13\u001b[0m     \u001b[0mResult\u001b[0m \u001b[1;33m=\u001b[0m \u001b[0mloaded_model\u001b[0m\u001b[1;33m.\u001b[0m\u001b[0mpredict\u001b[0m\u001b[1;33m(\u001b[0m\u001b[0mkline\u001b[0m\u001b[1;33m)\u001b[0m\u001b[1;33m\u001b[0m\u001b[1;33m\u001b[0m\u001b[0m\n\u001b[0;32m     14\u001b[0m     \u001b[0mprint\u001b[0m\u001b[1;33m(\u001b[0m\u001b[0mResult\u001b[0m\u001b[1;33m)\u001b[0m\u001b[1;33m\u001b[0m\u001b[1;33m\u001b[0m\u001b[0m\n",
      "\u001b[1;32mC:\\ProgramData\\Anaconda3\\lib\\site-packages\\joblib\\numpy_pickle.py\u001b[0m in \u001b[0;36mload\u001b[1;34m(filename, mmap_mode)\u001b[0m\n\u001b[0;32m    596\u001b[0m                     \u001b[1;32mreturn\u001b[0m \u001b[0mload_compatibility\u001b[0m\u001b[1;33m(\u001b[0m\u001b[0mfobj\u001b[0m\u001b[1;33m)\u001b[0m\u001b[1;33m\u001b[0m\u001b[1;33m\u001b[0m\u001b[0m\n\u001b[0;32m    597\u001b[0m \u001b[1;33m\u001b[0m\u001b[0m\n\u001b[1;32m--> 598\u001b[1;33m                 \u001b[0mobj\u001b[0m \u001b[1;33m=\u001b[0m \u001b[0m_unpickle\u001b[0m\u001b[1;33m(\u001b[0m\u001b[0mfobj\u001b[0m\u001b[1;33m,\u001b[0m \u001b[0mfilename\u001b[0m\u001b[1;33m,\u001b[0m \u001b[0mmmap_mode\u001b[0m\u001b[1;33m)\u001b[0m\u001b[1;33m\u001b[0m\u001b[1;33m\u001b[0m\u001b[0m\n\u001b[0m\u001b[0;32m    599\u001b[0m \u001b[1;33m\u001b[0m\u001b[0m\n\u001b[0;32m    600\u001b[0m     \u001b[1;32mreturn\u001b[0m \u001b[0mobj\u001b[0m\u001b[1;33m\u001b[0m\u001b[1;33m\u001b[0m\u001b[0m\n",
      "\u001b[1;32mC:\\ProgramData\\Anaconda3\\lib\\site-packages\\joblib\\numpy_pickle.py\u001b[0m in \u001b[0;36m_unpickle\u001b[1;34m(fobj, filename, mmap_mode)\u001b[0m\n\u001b[0;32m    524\u001b[0m     \u001b[0mobj\u001b[0m \u001b[1;33m=\u001b[0m \u001b[1;32mNone\u001b[0m\u001b[1;33m\u001b[0m\u001b[1;33m\u001b[0m\u001b[0m\n\u001b[0;32m    525\u001b[0m     \u001b[1;32mtry\u001b[0m\u001b[1;33m:\u001b[0m\u001b[1;33m\u001b[0m\u001b[1;33m\u001b[0m\u001b[0m\n\u001b[1;32m--> 526\u001b[1;33m         \u001b[0mobj\u001b[0m \u001b[1;33m=\u001b[0m \u001b[0munpickler\u001b[0m\u001b[1;33m.\u001b[0m\u001b[0mload\u001b[0m\u001b[1;33m(\u001b[0m\u001b[1;33m)\u001b[0m\u001b[1;33m\u001b[0m\u001b[1;33m\u001b[0m\u001b[0m\n\u001b[0m\u001b[0;32m    527\u001b[0m         \u001b[1;32mif\u001b[0m \u001b[0munpickler\u001b[0m\u001b[1;33m.\u001b[0m\u001b[0mcompat_mode\u001b[0m\u001b[1;33m:\u001b[0m\u001b[1;33m\u001b[0m\u001b[1;33m\u001b[0m\u001b[0m\n\u001b[0;32m    528\u001b[0m             warnings.warn(\"The file '%s' has been generated with a \"\n",
      "\u001b[1;32mC:\\ProgramData\\Anaconda3\\lib\\pickle.py\u001b[0m in \u001b[0;36mload\u001b[1;34m(self)\u001b[0m\n\u001b[0;32m   1083\u001b[0m                     \u001b[1;32mraise\u001b[0m \u001b[0mEOFError\u001b[0m\u001b[1;33m\u001b[0m\u001b[1;33m\u001b[0m\u001b[0m\n\u001b[0;32m   1084\u001b[0m                 \u001b[1;32massert\u001b[0m \u001b[0misinstance\u001b[0m\u001b[1;33m(\u001b[0m\u001b[0mkey\u001b[0m\u001b[1;33m,\u001b[0m \u001b[0mbytes_types\u001b[0m\u001b[1;33m)\u001b[0m\u001b[1;33m\u001b[0m\u001b[1;33m\u001b[0m\u001b[0m\n\u001b[1;32m-> 1085\u001b[1;33m                 \u001b[0mdispatch\u001b[0m\u001b[1;33m[\u001b[0m\u001b[0mkey\u001b[0m\u001b[1;33m[\u001b[0m\u001b[1;36m0\u001b[0m\u001b[1;33m]\u001b[0m\u001b[1;33m]\u001b[0m\u001b[1;33m(\u001b[0m\u001b[0mself\u001b[0m\u001b[1;33m)\u001b[0m\u001b[1;33m\u001b[0m\u001b[1;33m\u001b[0m\u001b[0m\n\u001b[0m\u001b[0;32m   1086\u001b[0m         \u001b[1;32mexcept\u001b[0m \u001b[0m_Stop\u001b[0m \u001b[1;32mas\u001b[0m \u001b[0mstopinst\u001b[0m\u001b[1;33m:\u001b[0m\u001b[1;33m\u001b[0m\u001b[1;33m\u001b[0m\u001b[0m\n\u001b[0;32m   1087\u001b[0m             \u001b[1;32mreturn\u001b[0m \u001b[0mstopinst\u001b[0m\u001b[1;33m.\u001b[0m\u001b[0mvalue\u001b[0m\u001b[1;33m\u001b[0m\u001b[1;33m\u001b[0m\u001b[0m\n",
      "\u001b[1;32mC:\\ProgramData\\Anaconda3\\lib\\pickle.py\u001b[0m in \u001b[0;36mload_global\u001b[1;34m(self)\u001b[0m\n\u001b[0;32m   1371\u001b[0m         \u001b[0mmodule\u001b[0m \u001b[1;33m=\u001b[0m \u001b[0mself\u001b[0m\u001b[1;33m.\u001b[0m\u001b[0mreadline\u001b[0m\u001b[1;33m(\u001b[0m\u001b[1;33m)\u001b[0m\u001b[1;33m[\u001b[0m\u001b[1;33m:\u001b[0m\u001b[1;33m-\u001b[0m\u001b[1;36m1\u001b[0m\u001b[1;33m]\u001b[0m\u001b[1;33m.\u001b[0m\u001b[0mdecode\u001b[0m\u001b[1;33m(\u001b[0m\u001b[1;34m\"utf-8\"\u001b[0m\u001b[1;33m)\u001b[0m\u001b[1;33m\u001b[0m\u001b[1;33m\u001b[0m\u001b[0m\n\u001b[0;32m   1372\u001b[0m         \u001b[0mname\u001b[0m \u001b[1;33m=\u001b[0m \u001b[0mself\u001b[0m\u001b[1;33m.\u001b[0m\u001b[0mreadline\u001b[0m\u001b[1;33m(\u001b[0m\u001b[1;33m)\u001b[0m\u001b[1;33m[\u001b[0m\u001b[1;33m:\u001b[0m\u001b[1;33m-\u001b[0m\u001b[1;36m1\u001b[0m\u001b[1;33m]\u001b[0m\u001b[1;33m.\u001b[0m\u001b[0mdecode\u001b[0m\u001b[1;33m(\u001b[0m\u001b[1;34m\"utf-8\"\u001b[0m\u001b[1;33m)\u001b[0m\u001b[1;33m\u001b[0m\u001b[1;33m\u001b[0m\u001b[0m\n\u001b[1;32m-> 1373\u001b[1;33m         \u001b[0mklass\u001b[0m \u001b[1;33m=\u001b[0m \u001b[0mself\u001b[0m\u001b[1;33m.\u001b[0m\u001b[0mfind_class\u001b[0m\u001b[1;33m(\u001b[0m\u001b[0mmodule\u001b[0m\u001b[1;33m,\u001b[0m \u001b[0mname\u001b[0m\u001b[1;33m)\u001b[0m\u001b[1;33m\u001b[0m\u001b[1;33m\u001b[0m\u001b[0m\n\u001b[0m\u001b[0;32m   1374\u001b[0m         \u001b[0mself\u001b[0m\u001b[1;33m.\u001b[0m\u001b[0mappend\u001b[0m\u001b[1;33m(\u001b[0m\u001b[0mklass\u001b[0m\u001b[1;33m)\u001b[0m\u001b[1;33m\u001b[0m\u001b[1;33m\u001b[0m\u001b[0m\n\u001b[0;32m   1375\u001b[0m     \u001b[0mdispatch\u001b[0m\u001b[1;33m[\u001b[0m\u001b[0mGLOBAL\u001b[0m\u001b[1;33m[\u001b[0m\u001b[1;36m0\u001b[0m\u001b[1;33m]\u001b[0m\u001b[1;33m]\u001b[0m \u001b[1;33m=\u001b[0m \u001b[0mload_global\u001b[0m\u001b[1;33m\u001b[0m\u001b[1;33m\u001b[0m\u001b[0m\n",
      "\u001b[1;32mC:\\ProgramData\\Anaconda3\\lib\\pickle.py\u001b[0m in \u001b[0;36mfind_class\u001b[1;34m(self, module, name)\u001b[0m\n\u001b[0;32m   1421\u001b[0m             \u001b[1;32melif\u001b[0m \u001b[0mmodule\u001b[0m \u001b[1;32min\u001b[0m \u001b[0m_compat_pickle\u001b[0m\u001b[1;33m.\u001b[0m\u001b[0mIMPORT_MAPPING\u001b[0m\u001b[1;33m:\u001b[0m\u001b[1;33m\u001b[0m\u001b[1;33m\u001b[0m\u001b[0m\n\u001b[0;32m   1422\u001b[0m                 \u001b[0mmodule\u001b[0m \u001b[1;33m=\u001b[0m \u001b[0m_compat_pickle\u001b[0m\u001b[1;33m.\u001b[0m\u001b[0mIMPORT_MAPPING\u001b[0m\u001b[1;33m[\u001b[0m\u001b[0mmodule\u001b[0m\u001b[1;33m]\u001b[0m\u001b[1;33m\u001b[0m\u001b[1;33m\u001b[0m\u001b[0m\n\u001b[1;32m-> 1423\u001b[1;33m         \u001b[0m__import__\u001b[0m\u001b[1;33m(\u001b[0m\u001b[0mmodule\u001b[0m\u001b[1;33m,\u001b[0m \u001b[0mlevel\u001b[0m\u001b[1;33m=\u001b[0m\u001b[1;36m0\u001b[0m\u001b[1;33m)\u001b[0m\u001b[1;33m\u001b[0m\u001b[1;33m\u001b[0m\u001b[0m\n\u001b[0m\u001b[0;32m   1424\u001b[0m         \u001b[1;32mif\u001b[0m \u001b[0mself\u001b[0m\u001b[1;33m.\u001b[0m\u001b[0mproto\u001b[0m \u001b[1;33m>=\u001b[0m \u001b[1;36m4\u001b[0m\u001b[1;33m:\u001b[0m\u001b[1;33m\u001b[0m\u001b[1;33m\u001b[0m\u001b[0m\n\u001b[0;32m   1425\u001b[0m             \u001b[1;32mreturn\u001b[0m \u001b[0m_getattribute\u001b[0m\u001b[1;33m(\u001b[0m\u001b[0msys\u001b[0m\u001b[1;33m.\u001b[0m\u001b[0mmodules\u001b[0m\u001b[1;33m[\u001b[0m\u001b[0mmodule\u001b[0m\u001b[1;33m]\u001b[0m\u001b[1;33m,\u001b[0m \u001b[0mname\u001b[0m\u001b[1;33m)\u001b[0m\u001b[1;33m[\u001b[0m\u001b[1;36m0\u001b[0m\u001b[1;33m]\u001b[0m\u001b[1;33m\u001b[0m\u001b[1;33m\u001b[0m\u001b[0m\n",
      "\u001b[1;31mModuleNotFoundError\u001b[0m: No module named 'sklearn.ensemble._forest'"
     ]
    }
   ],
   "source": [
    "c = trend()\n",
    "c"
   ]
  },
  {
   "cell_type": "code",
   "execution_count": 40,
   "metadata": {},
   "outputs": [],
   "source": [
    "import time\n",
    "stop_time = int(time.time())"
   ]
  },
  {
   "cell_type": "code",
   "execution_count": null,
   "metadata": {},
   "outputs": [],
   "source": [
    "kline = pd.DataFrame(jason.get_klines(market_name='BTC/USDT', resolution=3600, \n",
    "                                            limit=10,end_time=stop_time))\n",
    "kline = kline.drop(['startTime'], axis=1).drop(['time'], axis=1)\n",
    "kline"
   ]
  },
  {
   "cell_type": "code",
   "execution_count": 41,
   "metadata": {},
   "outputs": [],
   "source": [
    "import pandas\n",
    "import numpy as np\n",
    "from sklearn import model_selection\n",
    "from sklearn.ensemble import RandomForestClassifier\n",
    "from sklearn.externals import joblib\n",
    "loaded_model = joblib.load('k130_predict.m')"
   ]
  },
  {
   "cell_type": "code",
   "execution_count": null,
   "metadata": {},
   "outputs": [],
   "source": [
    "Result = loaded_model.predict(kline)\n",
    "np.median(Result)"
   ]
  },
  {
   "cell_type": "code",
   "execution_count": 42,
   "metadata": {},
   "outputs": [
    {
     "ename": "SyntaxError",
     "evalue": "invalid token (<ipython-input-42-8ad80344a831>, line 14)",
     "output_type": "error",
     "traceback": [
      "\u001b[0;36m  File \u001b[0;32m\"<ipython-input-42-8ad80344a831>\"\u001b[0;36m, line \u001b[0;32m14\u001b[0m\n\u001b[0;31m    limit=2880, start_time=sts, end_time=2017-5-21 09:00:00)\u001b[0m\n\u001b[0m                                                    ^\u001b[0m\n\u001b[0;31mSyntaxError\u001b[0m\u001b[0;31m:\u001b[0m invalid token\n"
     ]
    }
   ],
   "source": [
    "first_date = datetime(2020, 1, 2, 0, 0, 0)\n",
    "last_date = datetime.utcnow()\n",
    "delta = timedelta(days=1)\n",
    "    \n",
    "curr_date = first_date\n",
    "while curr_date < last_date:\n",
    "    sdate = curr_date - delta    \n",
    "    edate = curr_date + delta\n",
    "    sts = ciso8601.parse_datetime(sdate.strftime('%Y-%m-%dT00:00:00')).replace(tzinfo=timezone.utc).timestamp()\n",
    "    ets = ciso8601.parse_datetime(edate.strftime('%Y-%m-%dT00:00:00')).replace(tzinfo=timezone.utc).timestamp()\n",
    "    market = curr_date.strftime('BTC-MOVE-%m%d')\n",
    "    print(f'market is {market}')\n",
    "    df = get_historical_klines(market, interval=interval, \n",
    "                                    limit=2880, start_time=sts, end_time=2017-5-21 09:00:00)\n",
    "    curr_date += delta"
   ]
  },
  {
   "cell_type": "code",
   "execution_count": 9,
   "metadata": {},
   "outputs": [
    {
     "data": {
      "text/plain": [
       "[{'future': 'BTC-PERP',\n",
       "  'size': 0.0,\n",
       "  'side': 'buy',\n",
       "  'netSize': 0.0,\n",
       "  'longOrderSize': 0.0,\n",
       "  'shortOrderSize': 0.0,\n",
       "  'cost': 0.0,\n",
       "  'entryPrice': None,\n",
       "  'unrealizedPnl': 0.0,\n",
       "  'realizedPnl': -3904.22607283,\n",
       "  'initialMarginRequirement': 0.1,\n",
       "  'maintenanceMarginRequirement': 0.03,\n",
       "  'openSize': 0.0,\n",
       "  'collateralUsed': 0.0,\n",
       "  'estimatedLiquidationPrice': None,\n",
       "  'recentAverageOpenPrice': None,\n",
       "  'recentPnl': None,\n",
       "  'recentBreakEvenPrice': None,\n",
       "  'cumulativeBuySize': None,\n",
       "  'cumulativeSellSize': None},\n",
       " {'future': 'BTC-0924',\n",
       "  'size': 0.0,\n",
       "  'side': 'buy',\n",
       "  'netSize': 0.0,\n",
       "  'longOrderSize': 0.0,\n",
       "  'shortOrderSize': 0.0,\n",
       "  'cost': 0.0,\n",
       "  'entryPrice': None,\n",
       "  'unrealizedPnl': 0.0,\n",
       "  'realizedPnl': 976.5228,\n",
       "  'initialMarginRequirement': 0.1,\n",
       "  'maintenanceMarginRequirement': 0.03,\n",
       "  'openSize': 0.0,\n",
       "  'collateralUsed': 0.0,\n",
       "  'estimatedLiquidationPrice': None,\n",
       "  'recentAverageOpenPrice': None,\n",
       "  'recentPnl': None,\n",
       "  'recentBreakEvenPrice': None,\n",
       "  'cumulativeBuySize': None,\n",
       "  'cumulativeSellSize': None}]"
      ]
     },
     "execution_count": 9,
     "metadata": {},
     "output_type": "execute_result"
    }
   ],
   "source": [
    "pos = jason.get_positions()\n",
    "pos"
   ]
  },
  {
   "cell_type": "code",
   "execution_count": 8,
   "metadata": {},
   "outputs": [
    {
     "data": {
      "text/plain": [
       "[{'coin': 'USD',\n",
       "  'total': -800.42601013,\n",
       "  'free': 1421.88413864,\n",
       "  'availableWithoutBorrow': 0.0,\n",
       "  'usdValue': -800.4260101202658,\n",
       "  'spotBorrow': 800.42601013},\n",
       " {'coin': 'USDT',\n",
       "  'total': 2506.87026817,\n",
       "  'free': 1603.95211888,\n",
       "  'availableWithoutBorrow': 1603.95211888,\n",
       "  'usdValue': 2507.221706319807,\n",
       "  'spotBorrow': 0.0}]"
      ]
     },
     "execution_count": 8,
     "metadata": {},
     "output_type": "execute_result"
    }
   ],
   "source": [
    "collateral = jason.get_balances()\n",
    "collateral"
   ]
  },
  {
   "cell_type": "code",
   "execution_count": 11,
   "metadata": {},
   "outputs": [
    {
     "data": {
      "text/plain": [
       "2507.228850900071"
      ]
     },
     "execution_count": 11,
     "metadata": {},
     "output_type": "execute_result"
    }
   ],
   "source": [
    "for x in jason.get_balances():\n",
    "    HD_profits = x['usdValue']\n",
    "HD_profits"
   ]
  },
  {
   "cell_type": "code",
   "execution_count": 14,
   "metadata": {},
   "outputs": [
    {
     "name": "stdout",
     "output_type": "stream",
     "text": [
      "4580 1706.8028407798051\n"
     ]
    }
   ],
   "source": [
    "HD_balance = 0.0\n",
    "HD_start_balance = 5190-610\n",
    "USD_value = 0.0\n",
    "USDT_value = 0.0\n",
    "for x in jason.get_balances():\n",
    "        if x['coin'] == 'USD':\n",
    "            USD_value = x['usdValue']\n",
    "        if x['coin'] == 'USDT':\n",
    "            USDT_value = x['usdValue']\n",
    "        HD_balance = USD_value + USDT_value\n",
    "print(HD_start_balance, HD_balance)"
   ]
  },
  {
   "cell_type": "code",
   "execution_count": 14,
   "metadata": {},
   "outputs": [
    {
     "ename": "TypeError",
     "evalue": "unsupported operand type(s) for +: 'float' and 'NoneType'",
     "output_type": "error",
     "traceback": [
      "\u001b[0;31m---------------------------------------------------------------------------\u001b[0m",
      "\u001b[0;31mTypeError\u001b[0m                                 Traceback (most recent call last)",
      "\u001b[0;32m<ipython-input-14-8ba23dc844b4>\u001b[0m in \u001b[0;36m<module>\u001b[0;34m\u001b[0m\n\u001b[1;32m      2\u001b[0m \u001b[0mpos_now_btc\u001b[0m \u001b[0;34m=\u001b[0m \u001b[0;36m0.0\u001b[0m\u001b[0;34m\u001b[0m\u001b[0;34m\u001b[0m\u001b[0m\n\u001b[1;32m      3\u001b[0m \u001b[0;32mfor\u001b[0m \u001b[0mx\u001b[0m \u001b[0;32min\u001b[0m \u001b[0mpos\u001b[0m\u001b[0;34m:\u001b[0m\u001b[0;34m\u001b[0m\u001b[0;34m\u001b[0m\u001b[0m\n\u001b[0;32m----> 4\u001b[0;31m     \u001b[0mpos_now_open\u001b[0m \u001b[0;34m=\u001b[0m \u001b[0mpos_now_open\u001b[0m \u001b[0;34m+\u001b[0m \u001b[0mx\u001b[0m\u001b[0;34m[\u001b[0m\u001b[0;34m'recentBreakEvenPrice'\u001b[0m\u001b[0;34m]\u001b[0m\u001b[0;34m\u001b[0m\u001b[0;34m\u001b[0m\u001b[0m\n\u001b[0m\u001b[1;32m      5\u001b[0m     \u001b[0mpos_now_btc\u001b[0m \u001b[0;34m=\u001b[0m \u001b[0mpos_now_btc\u001b[0m \u001b[0;34m+\u001b[0m \u001b[0mx\u001b[0m\u001b[0;34m[\u001b[0m\u001b[0;34m'netSize'\u001b[0m\u001b[0;34m]\u001b[0m\u001b[0;34m\u001b[0m\u001b[0;34m\u001b[0m\u001b[0m\n\u001b[1;32m      6\u001b[0m \u001b[0;32mfor\u001b[0m \u001b[0mx\u001b[0m \u001b[0;32min\u001b[0m \u001b[0mjason\u001b[0m\u001b[0;34m.\u001b[0m\u001b[0mlist_markets\u001b[0m\u001b[0;34m(\u001b[0m\u001b[0;34m)\u001b[0m\u001b[0;34m:\u001b[0m\u001b[0;34m\u001b[0m\u001b[0;34m\u001b[0m\u001b[0m\n",
      "\u001b[0;31mTypeError\u001b[0m: unsupported operand type(s) for +: 'float' and 'NoneType'"
     ]
    }
   ],
   "source": [
    "pos_now_open = 0.0\n",
    "pos_now_btc = 0.0\n",
    "for x in pos:\n",
    "    pos_now_open = pos_now_open + x['recentBreakEvenPrice']\n",
    "    pos_now_btc = pos_now_btc + x['netSize']\n",
    "for x in jason.list_markets():\n",
    "        if x['name'] == 'BTC/USD':\n",
    "            btc_price = x['price']\n",
    "earning_now = (btc_price-pos_now)*300/pos_now\n",
    "earning_now"
   ]
  },
  {
   "cell_type": "code",
   "execution_count": 5,
   "metadata": {},
   "outputs": [],
   "source": [
    "def get_between_days(start_date, end_date):\n",
    "    # 獲得兩個日期之間的天數\n",
    "    start_sec = time.mktime(time.strptime(start_date,'%Y-%m-%d'))\n",
    "    end_sec = time.mktime(time.strptime(end_date,'%Y-%m-%d'))\n",
    "    work_days = int((end_sec - start_sec)/(24*60*60))\n",
    "    return work_days"
   ]
  },
  {
   "cell_type": "code",
   "execution_count": 6,
   "metadata": {},
   "outputs": [],
   "source": [
    "def get_profit(jason):\n",
    "    HD_balance = 0.0\n",
    "    HD_start_balance = 5190-610\n",
    "    USD_value = 0.0\n",
    "    USDT_value = 0.0\n",
    "    for x in jason.get_balances():\n",
    "        if x['coin'] == 'USD':\n",
    "            USD_value = x['usdValue']\n",
    "        if x['coin'] == 'USDT':\n",
    "            USDT_value = x['usdValue']\n",
    "        HD_balance = USD_value + USDT_value\n",
    "    ratio = round(((HD_balance-HD_start_balance)/HD_start_balance)*100, 3)\n",
    "    return ratio"
   ]
  },
  {
   "cell_type": "code",
   "execution_count": 13,
   "metadata": {},
   "outputs": [],
   "source": [
    "def HD_info():\n",
    "    jason=FtxClient('Nyjl6vk1E17Csf7WJh7mNpMhKSVMCoCWAg5e9b1o','O3VgRQNBaQwXGxbKej42BDVPZ13rk_SGU_PIAkPu')\n",
    "    \n",
    "    ratio = get_profit(jason)\n",
    "\n",
    "    start_date = '2021-04-19'\n",
    "    end_date = time.strftime('%Y-%m-%d',time.localtime(time.time()))\n",
    "    day_till_now = get_between_days(start_date, end_date)\n",
    "    year = round(ratio*(365/get_between_days(start_date, end_date)))\n",
    "    \n",
    "    pos = jason.get_positions()\n",
    "    pos_now_open = 0.0\n",
    "    pos_now_btc = 0.0\n",
    "   \n",
    "    for x in jason.list_markets():\n",
    "        if x['name'] == 'BTC/USD':\n",
    "            btc_price = x['price']\n",
    "    for x in pos:\n",
    "        if x['future']=='BTC-PERP':\n",
    "            if x['recentBreakEvenPrice'] != None:\n",
    "                pos_now_open = pos_now_open + x['recentBreakEvenPrice']\n",
    "                pos_now_btc = pos_now_btc + x['netSize']\n",
    "                earning_now =  round((btc_price-pos_now_open)*pos_now_btc/HD_ori_balance*100,3)\n",
    "            else:\n",
    "                earning_now =  '目前無倉位，請耐心等候!'\n",
    "        if x['future']=='BTC-0924':\n",
    "            if x['recentBreakEvenPrice'] != None:\n",
    "                pos_now_open = pos_now_open + x['recentBreakEvenPrice']\n",
    "                pos_now_btc = pos_now_btc + x['netSize']\n",
    "                short_earning_now =  round((btc_price-pos_now_open)*pos_now_btc/HD_ori_balance*100,3)\n",
    "            else:\n",
    "                short_earning_now =  '目前無倉位，請耐心等候!'\n",
    "    \n",
    "    \n",
    "    content = \"[HD Invest]漢典交易機器人測試輪 \\n 目前回報率: \"\n",
    "    content += '{}% \\n 本單回報:\\n  做多策略: {}%\\n  做空策略: {}%\\n 運行天數: {}\\n 預期年化: {}%  '.format(ratio,earning_now,short_earning_now,day_till_now , year)\n",
    "\n",
    "    return content"
   ]
  },
  {
   "cell_type": "code",
   "execution_count": 12,
   "metadata": {},
   "outputs": [
    {
     "ename": "NameError",
     "evalue": "name 'HD_ori_balance' is not defined",
     "output_type": "error",
     "traceback": [
      "\u001b[0;31m---------------------------------------------------------------------------\u001b[0m",
      "\u001b[0;31mNameError\u001b[0m                                 Traceback (most recent call last)",
      "\u001b[0;32m<ipython-input-12-12291758c4f6>\u001b[0m in \u001b[0;36m<module>\u001b[0;34m\u001b[0m\n\u001b[0;32m----> 1\u001b[0;31m \u001b[0ma\u001b[0m \u001b[0;34m=\u001b[0m \u001b[0mHD_info\u001b[0m\u001b[0;34m(\u001b[0m\u001b[0;34m)\u001b[0m\u001b[0;34m\u001b[0m\u001b[0;34m\u001b[0m\u001b[0m\n\u001b[0m\u001b[1;32m      2\u001b[0m \u001b[0ma\u001b[0m\u001b[0;34m\u001b[0m\u001b[0;34m\u001b[0m\u001b[0m\n",
      "\u001b[0;32m<ipython-input-7-3ded1e26c013>\u001b[0m in \u001b[0;36mHD_info\u001b[0;34m()\u001b[0m\n\u001b[1;32m     21\u001b[0m                 \u001b[0mpos_now_open\u001b[0m \u001b[0;34m=\u001b[0m \u001b[0mpos_now_open\u001b[0m \u001b[0;34m+\u001b[0m \u001b[0mx\u001b[0m\u001b[0;34m[\u001b[0m\u001b[0;34m'recentBreakEvenPrice'\u001b[0m\u001b[0;34m]\u001b[0m\u001b[0;34m\u001b[0m\u001b[0;34m\u001b[0m\u001b[0m\n\u001b[1;32m     22\u001b[0m                 \u001b[0mpos_now_btc\u001b[0m \u001b[0;34m=\u001b[0m \u001b[0mpos_now_btc\u001b[0m \u001b[0;34m+\u001b[0m \u001b[0mx\u001b[0m\u001b[0;34m[\u001b[0m\u001b[0;34m'netSize'\u001b[0m\u001b[0;34m]\u001b[0m\u001b[0;34m\u001b[0m\u001b[0;34m\u001b[0m\u001b[0m\n\u001b[0;32m---> 23\u001b[0;31m                 \u001b[0mearning_now\u001b[0m \u001b[0;34m=\u001b[0m  \u001b[0mround\u001b[0m\u001b[0;34m(\u001b[0m\u001b[0;34m(\u001b[0m\u001b[0mbtc_price\u001b[0m\u001b[0;34m-\u001b[0m\u001b[0mpos_now_open\u001b[0m\u001b[0;34m)\u001b[0m\u001b[0;34m*\u001b[0m\u001b[0mpos_now_btc\u001b[0m\u001b[0;34m/\u001b[0m\u001b[0mHD_ori_balance\u001b[0m\u001b[0;34m*\u001b[0m\u001b[0;36m100\u001b[0m\u001b[0;34m,\u001b[0m\u001b[0;36m3\u001b[0m\u001b[0;34m)\u001b[0m\u001b[0;34m\u001b[0m\u001b[0;34m\u001b[0m\u001b[0m\n\u001b[0m\u001b[1;32m     24\u001b[0m             \u001b[0;32melse\u001b[0m\u001b[0;34m:\u001b[0m\u001b[0;34m\u001b[0m\u001b[0;34m\u001b[0m\u001b[0m\n\u001b[1;32m     25\u001b[0m                 \u001b[0mearning_now\u001b[0m \u001b[0;34m=\u001b[0m  \u001b[0;34m'目前無倉位，請耐心等候!'\u001b[0m\u001b[0;34m\u001b[0m\u001b[0;34m\u001b[0m\u001b[0m\n",
      "\u001b[0;31mNameError\u001b[0m: name 'HD_ori_balance' is not defined"
     ]
    }
   ],
   "source": [
    "a = HD_info()\n",
    "a"
   ]
  },
  {
   "cell_type": "code",
   "execution_count": 9,
   "metadata": {},
   "outputs": [],
   "source": [
    "def hodl():\n",
    "    jason=FtxClient('Nyjl6vk1E17Csf7WJh7mNpMhKSVMCoCWAg5e9b1o','O3VgRQNBaQwXGxbKej42BDVPZ13rk_SGU_PIAkPu')\n",
    "    \n",
    "    for x in jason.list_markets():\n",
    "        if x['name'] == 'BTC/USD':\n",
    "            btc_price = x['price']\n",
    "    print(btc_price)\n",
    "    hodl = round((btc_price-56349)*100/56349,3)\n",
    "    \n",
    "    ratio = get_profit(jason)\n",
    "    \n",
    "    content = \"[HD Invest]漢典交易機器人 \\n 目前回報率: \"\n",
    "    content += '{}% \\n holder回報率: {}%  '.format(ratio,hodl)\n",
    "    return content"
   ]
  },
  {
   "cell_type": "code",
   "execution_count": 10,
   "metadata": {},
   "outputs": [
    {
     "name": "stdout",
     "output_type": "stream",
     "text": [
      "38299.0\n"
     ]
    },
    {
     "data": {
      "text/plain": [
       "'[HD Invest]漢典交易機器人 \\n 目前回報率: -35.69% \\n holder回報率: -32.033%  '"
      ]
     },
     "execution_count": 10,
     "metadata": {},
     "output_type": "execute_result"
    }
   ],
   "source": [
    "b = hodl()\n",
    "b"
   ]
  },
  {
   "cell_type": "code",
   "execution_count": 11,
   "metadata": {},
   "outputs": [
    {
     "ename": "NameError",
     "evalue": "name 'HD_ori_balance' is not defined",
     "output_type": "error",
     "traceback": [
      "\u001b[0;31m---------------------------------------------------------------------------\u001b[0m",
      "\u001b[0;31mNameError\u001b[0m                                 Traceback (most recent call last)",
      "\u001b[0;32m<ipython-input-11-699efcf8213b>\u001b[0m in \u001b[0;36m<module>\u001b[0;34m\u001b[0m\n\u001b[0;32m----> 1\u001b[0;31m \u001b[0mHD_info\u001b[0m\u001b[0;34m(\u001b[0m\u001b[0;34m)\u001b[0m\u001b[0;34m\u001b[0m\u001b[0;34m\u001b[0m\u001b[0m\n\u001b[0m",
      "\u001b[0;32m<ipython-input-7-3ded1e26c013>\u001b[0m in \u001b[0;36mHD_info\u001b[0;34m()\u001b[0m\n\u001b[1;32m     21\u001b[0m                 \u001b[0mpos_now_open\u001b[0m \u001b[0;34m=\u001b[0m \u001b[0mpos_now_open\u001b[0m \u001b[0;34m+\u001b[0m \u001b[0mx\u001b[0m\u001b[0;34m[\u001b[0m\u001b[0;34m'recentBreakEvenPrice'\u001b[0m\u001b[0;34m]\u001b[0m\u001b[0;34m\u001b[0m\u001b[0;34m\u001b[0m\u001b[0m\n\u001b[1;32m     22\u001b[0m                 \u001b[0mpos_now_btc\u001b[0m \u001b[0;34m=\u001b[0m \u001b[0mpos_now_btc\u001b[0m \u001b[0;34m+\u001b[0m \u001b[0mx\u001b[0m\u001b[0;34m[\u001b[0m\u001b[0;34m'netSize'\u001b[0m\u001b[0;34m]\u001b[0m\u001b[0;34m\u001b[0m\u001b[0;34m\u001b[0m\u001b[0m\n\u001b[0;32m---> 23\u001b[0;31m                 \u001b[0mearning_now\u001b[0m \u001b[0;34m=\u001b[0m  \u001b[0mround\u001b[0m\u001b[0;34m(\u001b[0m\u001b[0;34m(\u001b[0m\u001b[0mbtc_price\u001b[0m\u001b[0;34m-\u001b[0m\u001b[0mpos_now_open\u001b[0m\u001b[0;34m)\u001b[0m\u001b[0;34m*\u001b[0m\u001b[0mpos_now_btc\u001b[0m\u001b[0;34m/\u001b[0m\u001b[0mHD_ori_balance\u001b[0m\u001b[0;34m*\u001b[0m\u001b[0;36m100\u001b[0m\u001b[0;34m,\u001b[0m\u001b[0;36m3\u001b[0m\u001b[0;34m)\u001b[0m\u001b[0;34m\u001b[0m\u001b[0;34m\u001b[0m\u001b[0m\n\u001b[0m\u001b[1;32m     24\u001b[0m             \u001b[0;32melse\u001b[0m\u001b[0;34m:\u001b[0m\u001b[0;34m\u001b[0m\u001b[0;34m\u001b[0m\u001b[0m\n\u001b[1;32m     25\u001b[0m                 \u001b[0mearning_now\u001b[0m \u001b[0;34m=\u001b[0m  \u001b[0;34m'目前無倉位，請耐心等候!'\u001b[0m\u001b[0;34m\u001b[0m\u001b[0;34m\u001b[0m\u001b[0m\n",
      "\u001b[0;31mNameError\u001b[0m: name 'HD_ori_balance' is not defined"
     ]
    }
   ],
   "source": [
    "HD_info()"
   ]
  },
  {
   "cell_type": "code",
   "execution_count": 15,
   "metadata": {},
   "outputs": [
    {
     "name": "stdout",
     "output_type": "stream",
     "text": [
      "[ -8   0 -11   6   6  11  -1  -8 -11   6]\n"
     ]
    },
    {
     "data": {
      "text/plain": [
       "'[HD Invest]漢典交易機器人實驗計畫 \\n 預測3日內漲幅: 0.5% \\n 本功能尚在優化中 僅供參考 不建議作為交易依據'"
      ]
     },
     "execution_count": 15,
     "metadata": {},
     "output_type": "execute_result"
    }
   ],
   "source": [
    "trend()"
   ]
  },
  {
   "cell_type": "code",
   "execution_count": 51,
   "metadata": {},
   "outputs": [
    {
     "name": "stdout",
     "output_type": "stream",
     "text": [
      "37097.0\n"
     ]
    },
    {
     "data": {
      "text/plain": [
       "'[HD Invest]漢典交易機器人 \\n 目前回報率: -24.905% \\n holder回報率: -34.166%  '"
      ]
     },
     "execution_count": 51,
     "metadata": {},
     "output_type": "execute_result"
    }
   ],
   "source": [
    "hodl()"
   ]
  },
  {
   "cell_type": "code",
   "execution_count": null,
   "metadata": {},
   "outputs": [],
   "source": []
  }
 ],
 "metadata": {
  "kernelspec": {
   "display_name": "Python 3",
   "language": "python",
   "name": "python3"
  },
  "language_info": {
   "codemirror_mode": {
    "name": "ipython",
    "version": 3
   },
   "file_extension": ".py",
   "mimetype": "text/x-python",
   "name": "python",
   "nbconvert_exporter": "python",
   "pygments_lexer": "ipython3",
   "version": "3.7.3"
  }
 },
 "nbformat": 4,
 "nbformat_minor": 5
}
