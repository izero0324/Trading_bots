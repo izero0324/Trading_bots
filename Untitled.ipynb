{
 "cells": [
  {
   "cell_type": "code",
   "execution_count": 12,
   "id": "remarkable-typing",
   "metadata": {},
   "outputs": [],
   "source": [
    "import requests\n",
    "my_data = (('value1', '這邊輸入買入/賣出價格的參數'), ('value2', '這邊輸入本次交易的盈虧'))\n"
   ]
  },
  {
   "cell_type": "code",
   "execution_count": null,
   "id": "stable-parameter",
   "metadata": {},
   "outputs": [],
   "source": [
    "r = requests.post('https://maker.ifttt.com/trigger/HD Research/with/key/j0J0OchLJ7w4nLxuCtZ7DeEW1ZLZmCGZytdsLC-k19', data = my_data)"
   ]
  },
  {
   "cell_type": "code",
   "execution_count": 13,
   "id": "knowing-orientation",
   "metadata": {},
   "outputs": [],
   "source": [
    "r = requests.post('https://maker.ifttt.com/trigger/CLOSE/with/key/j0J0OchLJ7w4nLxuCtZ7DeEW1ZLZmCGZytdsLC-k19', data = my_data)"
   ]
  }
 ],
 "metadata": {
  "kernelspec": {
   "display_name": "Python 3",
   "language": "python",
   "name": "python3"
  },
  "language_info": {
   "codemirror_mode": {
    "name": "ipython",
    "version": 3
   },
   "file_extension": ".py",
   "mimetype": "text/x-python",
   "name": "python",
   "nbconvert_exporter": "python",
   "pygments_lexer": "ipython3",
   "version": "3.7.6"
  }
 },
 "nbformat": 4,
 "nbformat_minor": 5
}
