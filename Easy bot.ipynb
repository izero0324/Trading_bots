{
 "cells": [
  {
   "cell_type": "code",
   "execution_count": 2,
   "metadata": {},
   "outputs": [],
   "source": [
    "# pre-processing data\n",
    "import pandas as pd\n",
    "import numpy as np\n",
    "from numpy import mat\n",
    "# standardize the Data\n",
    "#from sklearn import preprocessing\n",
    "#from sklearn.metrics import confusion_matrix\n",
    "# draw graph\n",
    "import matplotlib.pyplot as plt\n",
    "%matplotlib inline\n",
    "#import seaborn as sns"
   ]
  },
  {
   "cell_type": "code",
   "execution_count": 8,
   "metadata": {},
   "outputs": [
    {
     "data": {
      "text/html": [
       "<div>\n",
       "<style scoped>\n",
       "    .dataframe tbody tr th:only-of-type {\n",
       "        vertical-align: middle;\n",
       "    }\n",
       "\n",
       "    .dataframe tbody tr th {\n",
       "        vertical-align: top;\n",
       "    }\n",
       "\n",
       "    .dataframe thead th {\n",
       "        text-align: right;\n",
       "    }\n",
       "</style>\n",
       "<table border=\"1\" class=\"dataframe\">\n",
       "  <thead>\n",
       "    <tr style=\"text-align: right;\">\n",
       "      <th></th>\n",
       "      <th>Price</th>\n",
       "      <th>Open</th>\n",
       "      <th>High</th>\n",
       "      <th>Low</th>\n",
       "      <th>Vol.</th>\n",
       "      <th>Change %</th>\n",
       "      <th>Predict</th>\n",
       "    </tr>\n",
       "  </thead>\n",
       "  <tbody>\n",
       "    <tr>\n",
       "      <th>count</th>\n",
       "      <td>1363.000000</td>\n",
       "      <td>1363.000000</td>\n",
       "      <td>1363.000000</td>\n",
       "      <td>1363.000000</td>\n",
       "      <td>1363.000000</td>\n",
       "      <td>1363.000000</td>\n",
       "      <td>1363.000000</td>\n",
       "    </tr>\n",
       "    <tr>\n",
       "      <th>mean</th>\n",
       "      <td>235.882487</td>\n",
       "      <td>235.788511</td>\n",
       "      <td>245.433155</td>\n",
       "      <td>224.441284</td>\n",
       "      <td>196.211871</td>\n",
       "      <td>0.003576</td>\n",
       "      <td>235.983111</td>\n",
       "    </tr>\n",
       "    <tr>\n",
       "      <th>std</th>\n",
       "      <td>246.678423</td>\n",
       "      <td>246.738938</td>\n",
       "      <td>258.459087</td>\n",
       "      <td>232.088043</td>\n",
       "      <td>281.158449</td>\n",
       "      <td>0.058825</td>\n",
       "      <td>246.614894</td>\n",
       "    </tr>\n",
       "    <tr>\n",
       "      <th>min</th>\n",
       "      <td>6.700000</td>\n",
       "      <td>6.680000</td>\n",
       "      <td>7.320000</td>\n",
       "      <td>5.860000</td>\n",
       "      <td>0.000000</td>\n",
       "      <td>-0.269100</td>\n",
       "      <td>6.700000</td>\n",
       "    </tr>\n",
       "    <tr>\n",
       "      <th>25%</th>\n",
       "      <td>14.450000</td>\n",
       "      <td>14.360000</td>\n",
       "      <td>14.890000</td>\n",
       "      <td>13.685000</td>\n",
       "      <td>6.940000</td>\n",
       "      <td>-0.023700</td>\n",
       "      <td>14.470000</td>\n",
       "    </tr>\n",
       "    <tr>\n",
       "      <th>50%</th>\n",
       "      <td>181.110000</td>\n",
       "      <td>181.060000</td>\n",
       "      <td>186.100000</td>\n",
       "      <td>176.060000</td>\n",
       "      <td>22.540000</td>\n",
       "      <td>-0.000200</td>\n",
       "      <td>181.110000</td>\n",
       "    </tr>\n",
       "    <tr>\n",
       "      <th>75%</th>\n",
       "      <td>303.140000</td>\n",
       "      <td>303.140000</td>\n",
       "      <td>313.410000</td>\n",
       "      <td>290.890000</td>\n",
       "      <td>344.250000</td>\n",
       "      <td>0.027600</td>\n",
       "      <td>303.140000</td>\n",
       "    </tr>\n",
       "    <tr>\n",
       "      <th>max</th>\n",
       "      <td>1380.000000</td>\n",
       "      <td>1379.900000</td>\n",
       "      <td>1423.200000</td>\n",
       "      <td>1264.400000</td>\n",
       "      <td>993.860000</td>\n",
       "      <td>0.295100</td>\n",
       "      <td>1380.000000</td>\n",
       "    </tr>\n",
       "  </tbody>\n",
       "</table>\n",
       "</div>"
      ],
      "text/plain": [
       "             Price         Open         High          Low         Vol.  \\\n",
       "count  1363.000000  1363.000000  1363.000000  1363.000000  1363.000000   \n",
       "mean    235.882487   235.788511   245.433155   224.441284   196.211871   \n",
       "std     246.678423   246.738938   258.459087   232.088043   281.158449   \n",
       "min       6.700000     6.680000     7.320000     5.860000     0.000000   \n",
       "25%      14.450000    14.360000    14.890000    13.685000     6.940000   \n",
       "50%     181.110000   181.060000   186.100000   176.060000    22.540000   \n",
       "75%     303.140000   303.140000   313.410000   290.890000   344.250000   \n",
       "max    1380.000000  1379.900000  1423.200000  1264.400000   993.860000   \n",
       "\n",
       "          Change %      Predict  \n",
       "count  1363.000000  1363.000000  \n",
       "mean      0.003576   235.983111  \n",
       "std       0.058825   246.614894  \n",
       "min      -0.269100     6.700000  \n",
       "25%      -0.023700    14.470000  \n",
       "50%      -0.000200   181.110000  \n",
       "75%       0.027600   303.140000  \n",
       "max       0.295100  1380.000000  "
      ]
     },
     "execution_count": 8,
     "metadata": {},
     "output_type": "execute_result"
    }
   ],
   "source": [
    "csv_file = 'Eth_training.csv'\n",
    "data_eth = pd.read_csv(csv_file)\n",
    "data_eth = data_eth.drop(['Date'], axis=1)\n",
    "data_eth.describe()"
   ]
  },
  {
   "cell_type": "code",
   "execution_count": 9,
   "metadata": {},
   "outputs": [],
   "source": [
    "Y =  data_eth['Predict']\n",
    "Y = Y.dropna()"
   ]
  },
  {
   "cell_type": "code",
   "execution_count": 10,
   "metadata": {},
   "outputs": [
    {
     "data": {
      "text/html": [
       "<div>\n",
       "<style scoped>\n",
       "    .dataframe tbody tr th:only-of-type {\n",
       "        vertical-align: middle;\n",
       "    }\n",
       "\n",
       "    .dataframe tbody tr th {\n",
       "        vertical-align: top;\n",
       "    }\n",
       "\n",
       "    .dataframe thead th {\n",
       "        text-align: right;\n",
       "    }\n",
       "</style>\n",
       "<table border=\"1\" class=\"dataframe\">\n",
       "  <thead>\n",
       "    <tr style=\"text-align: right;\">\n",
       "      <th></th>\n",
       "      <th>Price</th>\n",
       "      <th>Open</th>\n",
       "      <th>High</th>\n",
       "      <th>Low</th>\n",
       "      <th>Vol.</th>\n",
       "      <th>Change %</th>\n",
       "    </tr>\n",
       "  </thead>\n",
       "  <tbody>\n",
       "    <tr>\n",
       "      <th>count</th>\n",
       "      <td>1363.000000</td>\n",
       "      <td>1363.000000</td>\n",
       "      <td>1363.000000</td>\n",
       "      <td>1363.000000</td>\n",
       "      <td>1363.000000</td>\n",
       "      <td>1363.000000</td>\n",
       "    </tr>\n",
       "    <tr>\n",
       "      <th>mean</th>\n",
       "      <td>235.882487</td>\n",
       "      <td>235.788511</td>\n",
       "      <td>245.433155</td>\n",
       "      <td>224.441284</td>\n",
       "      <td>196.211871</td>\n",
       "      <td>0.003576</td>\n",
       "    </tr>\n",
       "    <tr>\n",
       "      <th>std</th>\n",
       "      <td>246.678423</td>\n",
       "      <td>246.738938</td>\n",
       "      <td>258.459087</td>\n",
       "      <td>232.088043</td>\n",
       "      <td>281.158449</td>\n",
       "      <td>0.058825</td>\n",
       "    </tr>\n",
       "    <tr>\n",
       "      <th>min</th>\n",
       "      <td>6.700000</td>\n",
       "      <td>6.680000</td>\n",
       "      <td>7.320000</td>\n",
       "      <td>5.860000</td>\n",
       "      <td>0.000000</td>\n",
       "      <td>-0.269100</td>\n",
       "    </tr>\n",
       "    <tr>\n",
       "      <th>25%</th>\n",
       "      <td>14.450000</td>\n",
       "      <td>14.360000</td>\n",
       "      <td>14.890000</td>\n",
       "      <td>13.685000</td>\n",
       "      <td>6.940000</td>\n",
       "      <td>-0.023700</td>\n",
       "    </tr>\n",
       "    <tr>\n",
       "      <th>50%</th>\n",
       "      <td>181.110000</td>\n",
       "      <td>181.060000</td>\n",
       "      <td>186.100000</td>\n",
       "      <td>176.060000</td>\n",
       "      <td>22.540000</td>\n",
       "      <td>-0.000200</td>\n",
       "    </tr>\n",
       "    <tr>\n",
       "      <th>75%</th>\n",
       "      <td>303.140000</td>\n",
       "      <td>303.140000</td>\n",
       "      <td>313.410000</td>\n",
       "      <td>290.890000</td>\n",
       "      <td>344.250000</td>\n",
       "      <td>0.027600</td>\n",
       "    </tr>\n",
       "    <tr>\n",
       "      <th>max</th>\n",
       "      <td>1380.000000</td>\n",
       "      <td>1379.900000</td>\n",
       "      <td>1423.200000</td>\n",
       "      <td>1264.400000</td>\n",
       "      <td>993.860000</td>\n",
       "      <td>0.295100</td>\n",
       "    </tr>\n",
       "  </tbody>\n",
       "</table>\n",
       "</div>"
      ],
      "text/plain": [
       "             Price         Open         High          Low         Vol.  \\\n",
       "count  1363.000000  1363.000000  1363.000000  1363.000000  1363.000000   \n",
       "mean    235.882487   235.788511   245.433155   224.441284   196.211871   \n",
       "std     246.678423   246.738938   258.459087   232.088043   281.158449   \n",
       "min       6.700000     6.680000     7.320000     5.860000     0.000000   \n",
       "25%      14.450000    14.360000    14.890000    13.685000     6.940000   \n",
       "50%     181.110000   181.060000   186.100000   176.060000    22.540000   \n",
       "75%     303.140000   303.140000   313.410000   290.890000   344.250000   \n",
       "max    1380.000000  1379.900000  1423.200000  1264.400000   993.860000   \n",
       "\n",
       "          Change %  \n",
       "count  1363.000000  \n",
       "mean      0.003576  \n",
       "std       0.058825  \n",
       "min      -0.269100  \n",
       "25%      -0.023700  \n",
       "50%      -0.000200  \n",
       "75%       0.027600  \n",
       "max       0.295100  "
      ]
     },
     "execution_count": 10,
     "metadata": {},
     "output_type": "execute_result"
    }
   ],
   "source": [
    "X = data_eth.drop(['Predict'],axis = 1)\n",
    "X = X.dropna()\n",
    "X.describe()"
   ]
  },
  {
   "cell_type": "code",
   "execution_count": 11,
   "metadata": {},
   "outputs": [],
   "source": [
    "import numpy as np\n",
    "def mean_absolute_percentage_error(y_true, y_pred): \n",
    "    y_true, y_pred = np.array(y_true), np.array(y_pred)\n",
    "    return np.mean(np.abs((y_true - y_pred) / y_true)) * 100"
   ]
  },
  {
   "cell_type": "code",
   "execution_count": 12,
   "metadata": {
    "scrolled": true
   },
   "outputs": [
    {
     "name": "stderr",
     "output_type": "stream",
     "text": [
      "C:\\ProgramData\\Anaconda3\\lib\\site-packages\\sklearn\\ensemble\\forest.py:245: FutureWarning: The default value of n_estimators will change from 10 in version 0.20 to 100 in 0.22.\n",
      "  \"10 in version 0.20 to 100 in 0.22.\", FutureWarning)\n"
     ]
    },
    {
     "data": {
      "text/plain": [
       "RandomForestClassifier(bootstrap=True, class_weight=None, criterion='gini',\n",
       "                       max_depth=None, max_features='auto', max_leaf_nodes=None,\n",
       "                       min_impurity_decrease=0.0, min_impurity_split=None,\n",
       "                       min_samples_leaf=1, min_samples_split=2,\n",
       "                       min_weight_fraction_leaf=0.0, n_estimators=10,\n",
       "                       n_jobs=None, oob_score=False, random_state=None,\n",
       "                       verbose=0, warm_start=False)"
      ]
     },
     "execution_count": 12,
     "metadata": {},
     "output_type": "execute_result"
    }
   ],
   "source": [
    "from sklearn.ensemble import RandomForestClassifier\n",
    "RandomForest = RandomForestClassifier()\n",
    "RandomForest.fit(X, Y.astype(int))"
   ]
  },
  {
   "cell_type": "code",
   "execution_count": 13,
   "metadata": {},
   "outputs": [
    {
     "name": "stdout",
     "output_type": "stream",
     "text": [
      "Random Forest\n",
      "1.5246172959677506\n"
     ]
    }
   ],
   "source": [
    "print('Random Forest')\n",
    "print(mean_absolute_percentage_error(Y, RandomForest.predict(X)))"
   ]
  },
  {
   "cell_type": "code",
   "execution_count": 14,
   "metadata": {},
   "outputs": [
    {
     "data": {
      "text/plain": [
       "array([ 11,  12,  15, ..., 148, 151, 149])"
      ]
     },
     "execution_count": 14,
     "metadata": {},
     "output_type": "execute_result"
    }
   ],
   "source": [
    "csv_file = 'Eth_val.csv'\n",
    "now_eth = pd.read_csv(csv_file)\n",
    "date = now_eth['Date']\n",
    "std_etg = now_eth['Predict']\n",
    "now_eth = now_eth.drop(['Date','Predict'], axis=1)\n",
    "RandomForest.predict(now_eth)"
   ]
  },
  {
   "cell_type": "code",
   "execution_count": 15,
   "metadata": {},
   "outputs": [
    {
     "data": {
      "text/plain": [
       "0        11.95\n",
       "1        12.92\n",
       "2        15.07\n",
       "3        12.50\n",
       "4        13.06\n",
       "5        12.88\n",
       "6        10.74\n",
       "7        10.74\n",
       "8        10.31\n",
       "9        10.18\n",
       "10       11.95\n",
       "11       11.37\n",
       "12       12.43\n",
       "13       11.20\n",
       "14       10.67\n",
       "15       11.00\n",
       "16       10.40\n",
       "17       11.62\n",
       "18       11.79\n",
       "19       11.85\n",
       "20       11.41\n",
       "21       11.62\n",
       "22       11.61\n",
       "23       11.75\n",
       "24       11.15\n",
       "25       10.40\n",
       "26       10.76\n",
       "27       10.12\n",
       "28        9.71\n",
       "29        9.15\n",
       "         ...  \n",
       "1336    186.94\n",
       "1337    184.03\n",
       "1338    184.96\n",
       "1339    188.99\n",
       "1340    185.09\n",
       "1341    186.99\n",
       "1342    188.36\n",
       "1343    185.25\n",
       "1344    180.19\n",
       "1345    182.42\n",
       "1346    184.18\n",
       "1347    178.50\n",
       "1348    176.09\n",
       "1349    174.96\n",
       "1350    161.46\n",
       "1351    149.80\n",
       "1352    152.46\n",
       "1353    140.66\n",
       "1354    145.90\n",
       "1355    149.15\n",
       "1356    145.63\n",
       "1357    151.07\n",
       "1358    152.65\n",
       "1359    152.54\n",
       "1360    151.04\n",
       "1361    148.89\n",
       "1362    148.90\n",
       "1363    148.78\n",
       "1364       NaN\n",
       "1365       NaN\n",
       "Name: Predict, Length: 1366, dtype: float64"
      ]
     },
     "execution_count": 15,
     "metadata": {},
     "output_type": "execute_result"
    }
   ],
   "source": [
    "std_etg"
   ]
  },
  {
   "cell_type": "code",
   "execution_count": 16,
   "metadata": {
    "scrolled": true
   },
   "outputs": [
    {
     "data": {
      "text/plain": [
       "array([ 11,  12,  15, ..., 151, 148, 148])"
      ]
     },
     "execution_count": 16,
     "metadata": {},
     "output_type": "execute_result"
    }
   ],
   "source": [
    "RandomForest.predict(X)"
   ]
  },
  {
   "cell_type": "code",
   "execution_count": 17,
   "metadata": {},
   "outputs": [
    {
     "data": {
      "text/plain": [
       "SVC(C=1.0, cache_size=200, class_weight=None, coef0=0.0,\n",
       "    decision_function_shape='ovr', degree=3, gamma='auto_deprecated',\n",
       "    kernel='linear', max_iter=-1, probability=True, random_state=None,\n",
       "    shrinking=True, tol=0.001, verbose=False)"
      ]
     },
     "execution_count": 17,
     "metadata": {},
     "output_type": "execute_result"
    }
   ],
   "source": [
    "from sklearn.svm import SVC\n",
    "\n",
    "svm = SVC(kernel = 'linear', probability = True)\n",
    "svm.fit(X, Y.astype(int))"
   ]
  },
  {
   "cell_type": "code",
   "execution_count": 18,
   "metadata": {},
   "outputs": [
    {
     "data": {
      "text/plain": [
       "2.279778358809987"
      ]
     },
     "execution_count": 18,
     "metadata": {},
     "output_type": "execute_result"
    }
   ],
   "source": [
    "mean_absolute_percentage_error(Y, svm.predict(X))"
   ]
  },
  {
   "cell_type": "code",
   "execution_count": null,
   "metadata": {},
   "outputs": [],
   "source": [
    "svm.predict(now_eth)"
   ]
  },
  {
   "cell_type": "code",
   "execution_count": null,
   "metadata": {},
   "outputs": [],
   "source": [
    "RandomForest.predict(now_eth)"
   ]
  },
  {
   "cell_type": "code",
   "execution_count": null,
   "metadata": {},
   "outputs": [],
   "source": [
    "std_err = std_etg.dropna()"
   ]
  },
  {
   "cell_type": "code",
   "execution_count": null,
   "metadata": {},
   "outputs": [],
   "source": [
    "mean_absolute_percentage_error(std_etg,svm.predict(now_eth))"
   ]
  },
  {
   "cell_type": "code",
   "execution_count": null,
   "metadata": {},
   "outputs": [],
   "source": [
    "plt.figure(figsize = (30,10))\n",
    "plt.plot(date, std_etg, RandomForest.predict(now_eth))\n",
    "plt.axis('off')"
   ]
  },
  {
   "cell_type": "code",
   "execution_count": null,
   "metadata": {},
   "outputs": [],
   "source": []
  }
 ],
 "metadata": {
  "kernelspec": {
   "display_name": "Python 3",
   "language": "python",
   "name": "python3"
  },
  "language_info": {
   "codemirror_mode": {
    "name": "ipython",
    "version": 3
   },
   "file_extension": ".py",
   "mimetype": "text/x-python",
   "name": "python",
   "nbconvert_exporter": "python",
   "pygments_lexer": "ipython3",
   "version": "3.7.6"
  }
 },
 "nbformat": 4,
 "nbformat_minor": 2
}
